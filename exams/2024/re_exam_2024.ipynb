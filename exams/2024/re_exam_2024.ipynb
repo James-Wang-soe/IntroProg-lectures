{
 "cells": [
  {
   "cell_type": "markdown",
   "metadata": {},
   "source": [
    "**Table of contents**<a id='toc0_'></a>    \n",
    "- 1. [Problem 1: Job search model](#toc1_)    \n",
    "- 2. [Problem 2: Fiscal sustainability](#toc2_)    \n",
    "- 3. [Problem 3: Deferred acceptance algorithm](#toc3_)    \n",
    "\n",
    "<!-- vscode-jupyter-toc-config\n",
    "\tnumbering=true\n",
    "\tanchor=true\n",
    "\tflat=false\n",
    "\tminLevel=2\n",
    "\tmaxLevel=6\n",
    "\t/vscode-jupyter-toc-config -->\n",
    "<!-- THIS CELL WILL BE REPLACED ON TOC UPDATE. DO NOT WRITE YOUR TEXT IN THIS CELL -->"
   ]
  },
  {
   "cell_type": "code",
   "execution_count": 1,
   "metadata": {},
   "outputs": [],
   "source": [
    "import numpy as np\n",
    "from types import SimpleNamespace\n",
    "# Write your code here "
   ]
  },
  {
   "cell_type": "markdown",
   "metadata": {},
   "source": [
    "## 1. <a id='toc1_'></a>[Problem 1: Job search model](#toc0_)"
   ]
  },
  {
   "cell_type": "markdown",
   "metadata": {},
   "source": [
    "Consider an unemployed agent searcing for jobs. <br>\n",
    "There are $K$ jobs, job $k$ pays wage $w_k$. In each period the agent is offered one of the $K$ jobs, the likelihood of being offered job $k$ is $\\pi_k$, with $\\sum_{k=1}^K\\pi_k=1$. <br>\n",
    "The jobs are ordered by wage, such that $w_1<w_2<\\dots<w_K$. <br>\n",
    "$x^*\\in\\{1,2\\dots,K+1\\}$ is the lowest paying job that the person is willing to accept ($x^*=K+1$, means no job is accepted and the job seeker chooses to remain unemployed). <br>"
   ]
  },
  {
   "cell_type": "markdown",
   "metadata": {},
   "source": [
    "Once a job is accepted the job is kept forever, so the value of employment at a given wage $w_k$ is:\n",
    "\n",
    "$$\n",
    "\\begin{align*}\n",
    "V_e(w_k)=\\frac{u(w_k)}{1-\\beta}\n",
    "\\end{align*}\n",
    "$$\n",
    "Where $u(w_k)$ is the utility of wage $w_k$ and $\\beta$ is the discount factor. <br>"
   ]
  },
  {
   "cell_type": "markdown",
   "metadata": {},
   "source": [
    "For a given $x$, and a given value of unemployment in the next period $V_u'$, the current value of umemployment is the utility of the unemployment benefit, $z$, plus the discounted expected value in the next period, which consists of the probability of being offered and accepting a job, times the value of employment at that wage, plus the likelihood of not being a offered job that the agent is willing to accept, times the value of being unemployed in next period. <br>\n",
    "$$\n",
    "V_u(x,V_u') = u(z)+ \\beta\\cdot \\left( \\sum_{k=x}^{K}\\pi_k \\cdot V_e(w_k) + V_u'\\cdot \\sum_{k=1}^{x-1}\\pi_k  \\right)\n",
    "$$\n",
    "$x^*$ is the optimal $x$ to maximize the value of being unemployed: <br>\n",
    "$$\n",
    "x^* = \\underset{x\\in\\{1,2\\dots,K+1\\}}{\\arg\\max}V_u(x,V_u') \n",
    "$$\n",
    "We specify:\n",
    "$$\n",
    "u(c)= \\frac{c^{1-\\rho}}{1-\\rho}\n",
    "$$"
   ]
  },
  {
   "cell_type": "markdown",
   "metadata": {},
   "source": [
    "The parameters and the set of $\\{w_k\\}$ and $\\{\\pi_k\\}$ are given as:"
   ]
  },
  {
   "cell_type": "code",
   "execution_count": 2,
   "metadata": {},
   "outputs": [],
   "source": [
    "par = SimpleNamespace()\n",
    "par.K = 100\n",
    "par.w = np.linspace(1,8,par.K) # set of wage (w_k)\n",
    "par.pi = np.exp(-par.w*2)/np.sum(np.exp(-par.w*2)) # Set of pi (pi_k)\n",
    "par.rho = 0.5\n",
    "par.z = 0.5\n",
    "par.beta = 0.9\n",
    "par.tol = 1e-6"
   ]
  },
  {
   "cell_type": "markdown",
   "metadata": {},
   "source": [
    "**Question 1:** For a given $V_u'=30$, find $x^*$ nummerically, and calculate $V_u(x^*,V_u')$ . <br>"
   ]
  },
  {
   "cell_type": "code",
   "execution_count": 3,
   "metadata": {},
   "outputs": [],
   "source": [
    "# write your answer here"
   ]
  },
  {
   "cell_type": "markdown",
   "metadata": {},
   "source": [
    "There exists a unique value of $V_u'$, let's call it $V_u^*$,  that ensures that the current value of unemployment is equal to the value in the next period: $V_u^*=V_u(x^*,V_u^*)$. <br>\n",
    "To find that value, we can use 2 tricks: <br>\n",
    "First, the optimization over $x$ can be written out of the problem by using the fact that: <br>\n",
    "$$\n",
    "\\begin{align*}\n",
    "V_u(x^*,V_u') &= u(z)+ \\beta\\cdot \\left( \\sum_{k=x^*}^{K}\\pi_k \\cdot V_e(w_k) + V_u'\\cdot \\sum_{k=1}^{x^*-1}\\pi_k  \\right) \\\\\n",
    "\\Rightarrow V_u(x^*,V_u') = V_u(V_u') &=  u(z)+ \\beta\\cdot \\left( \\sum_{k=1}^{K}\\pi_k \\cdot \\max\\left\\{V_e(w_k), V'_u\\right\\} \\right)\n",
    "\\end{align*}\n",
    "$$"
   ]
  },
  {
   "cell_type": "markdown",
   "metadata": {},
   "source": [
    "Secondly, for finding the the value of $V_u^*$, a simple algorithm can be used: <br>\n",
    "1. Start by setting $V_u'=0$\n",
    "1. Calculate $V_u(V_u')$\n",
    "1. If $\\left|V_u(V_u')-V_u'\\right|>\\text{tol}$ set $V_u'=V_u(V_u')$ and go back to step 2. <br>\n",
    "1. $V_u^*\\approx V_u \\approx V_u'$ is found. <br>"
   ]
  },
  {
   "cell_type": "markdown",
   "metadata": {},
   "source": [
    "**Question 2:** For $z\\in[0,4]$, solve for $V_u^*$ and plot it across $z$<br>\n",
    "Then find $x^*$ and the following value $S$: \n",
    "$$\n",
    "S = \\beta \\cdot \\sum_{k=x^*}^{K}\\pi_k \\cdot V_e(w_k)\n",
    "$$\n",
    "And plot both across $z$"
   ]
  },
  {
   "cell_type": "code",
   "execution_count": 4,
   "metadata": {},
   "outputs": [],
   "source": [
    "# Write your code here"
   ]
  },
  {
   "cell_type": "markdown",
   "metadata": {},
   "source": [
    "Consider an updated version of the model where the job seeker can use search effort, $e$, to alter the offered job distribution. More search effort will increase the likelihood of being offered a high paying job, but it also directly hurts utility. <br>\n",
    "$$\n",
    "V_u(e,x,V_u') = u(z- e)+ \\beta\\cdot \\left( \\sum_{k=x}^{K}\\pi(w_k,e) \\cdot V_e(w_k) + V_u'\\cdot \\sum_{k=1}^{x-1}\\pi(w_k,e)  \\right)\n",
    "$$\n",
    "Where optimal values $e^*,x^*$ for a given $V_u'$ are:\n",
    "$$\n",
    "x^*,e^* = \\arg\\max_{x\\in\\{1,2\\dots,K+1\\}, e\\in[0,z)}V_u(e,x,V_u')\n",
    "$$\n",
    "We specify the following functional form for $\\pi(w_k,e)$:\n",
    "$$ \n",
    "\\pi(w,e) = \\frac{\\exp(-\\frac{w}{\\frac{1}{2}+e})}{\\sum_{k=1}^{K}\\exp(-\\frac{w_k}{\\frac{1}{2}+e})}\n",
    "$$ \n",
    "$V_e(w_k)$ is the same as before."
   ]
  },
  {
   "cell_type": "markdown",
   "metadata": {},
   "source": [
    "**Question 3:** <br>\n",
    "a) Plot $\\pi(w,e)$ across $w\\in[1,8]$ for $e\\in\\{0,0.2,0.5,1,2,10\\}$. <br>\n",
    "b) Solve for $x^*,e^*$ for a given $V_u'=30$. <br>\n",
    "\n",
    "*Tip for b): You can solve for $x^*$ and $e^*$ by first creating a function that solves for $x^*$, given $e$, and returns the objective for the given $e$ and $x^*$, and then solves for $e^*$ by maximizing that function.*"
   ]
  },
  {
   "cell_type": "code",
   "execution_count": 5,
   "metadata": {},
   "outputs": [],
   "source": [
    "# Write your code here"
   ]
  },
  {
   "cell_type": "markdown",
   "metadata": {},
   "source": [
    "Again we can rewrite: \n",
    "$$\n",
    "\\begin{align*}\n",
    "V_u(e,x^*,V_u')  &= u(z- e)+ \\beta\\cdot \\left( \\sum_{k=x^*}^{K}\\pi(w_k,e) \\cdot V_e(w_k) + V_u'\\cdot \\sum_{k=1}^{x^*-1}\\pi(w_k,e)  \\right) \\\\\n",
    "\\Rightarrow V_u(e,x^*,V_u') &= V_u(e,V_u') = u(z- e)+ \\beta\\cdot \\left( \\sum_{k=1}^{K}\\pi(w_k,e) \\cdot \\max\\left\\{ V_e(w_k), V_u' \\right\\} \\right)\n",
    "\\end{align*}\n",
    "$$\n",
    "With:\n",
    "$$\n",
    "e^* = \\arg\\max_{e\\in[0,z)} V_u(e,V_u')\n",
    "\n",
    "$$\n"
   ]
  },
  {
   "cell_type": "markdown",
   "metadata": {},
   "source": [
    "Now $V_u^*$ can be found by the following procedure: <br>\n",
    "1. Start by setting $V_u'=0$\n",
    "1. Find $e^*$ given $V_u'$ and calculate $V_u(e^*,V_u')$\n",
    "1. If $\\left|V_u(e^*,V_u')-V_u'\\right|>\\text{tol}$ set $V_u'=V_u(e^*,V_u')$ and go to step 2. <br>\n",
    "1. $V_u^*\\approx V_u(e^*,V_u') \\approx V_u'$ is found. <br>"
   ]
  },
  {
   "cell_type": "markdown",
   "metadata": {},
   "source": [
    "**Question 4:** <br>\n",
    "For $z\\in[0,4]$, solve for $V_u^*$ in the new model and plot it across $z$<br>\n",
    "Then find $x^*$, $e^*$ and the following value $S$: \n",
    "$$\n",
    "S = \\beta \\cdot \\sum_{k=x^*}^{K}\\pi(w_k,e^*) \\cdot V_e(w_k)\n",
    "$$\n",
    "And plot them across $z$. <br>\n",
    "In the plots, compare with the values from question 2. <br>"
   ]
  },
  {
   "cell_type": "code",
   "execution_count": 6,
   "metadata": {},
   "outputs": [],
   "source": [
    "# Write your code here"
   ]
  },
  {
   "cell_type": "markdown",
   "metadata": {},
   "source": [
    "## 2. <a id='toc2_'></a>[Problem 2: Fiscal sustainability](#toc0_)"
   ]
  },
  {
   "cell_type": "markdown",
   "metadata": {},
   "source": [
    "Consider the following model of fiscal sustainability:\n",
    "\n",
    "$$\n",
    "\\begin{align*}\n",
    "Y_{t+1}\t&=(1+g)Y_{t}\\\\\n",
    "B_{t+1}\t&=(1+r)B_{t}+PD\\cdot Y_t\\\\\n",
    "b_{t}\t&=\\frac{B_{t}}{Y_{t}}\\\\\n",
    "\\end{align*}\n",
    "$$\n",
    "\n",
    "where $Y_{t}$ is GDP with growth rate $g$, $B_{t}$ is government bonds, $PD\\in[0,1]$ is the primary deficit relative to GDP, and $b_{t}$ is the debt to GDP ratio.\n",
    "\n",
    "Fiscal sustainability is defined as $\\lim_{t\\rightarrow\\infty}b_{t}\\rightarrow b_{ss}<\\infty$. "
   ]
  },
  {
   "cell_type": "markdown",
   "metadata": {},
   "source": [
    "**Question 1:** Set $Y_{0}=1$, $B_{0}=0$, $g=0.02$ and $r=0.04$. Write code for simulating the model, how would you test for fiscal sustainability in your simulation? For which values of $PD$ is the fiscal policy sustainable?"
   ]
  },
  {
   "cell_type": "code",
   "execution_count": 7,
   "metadata": {},
   "outputs": [],
   "source": [
    "# write you answer here"
   ]
  },
  {
   "cell_type": "markdown",
   "metadata": {},
   "source": [
    "**Question 2:** Set $Y_{0}=1$, $B_{0}=0$, $g=0.02$ and $r=0.00$. For which values of $PD$ is the fiscal policy sustainable? What if we also require $b_t < 2\\,\\forall t$  for sustainability?"
   ]
  },
  {
   "cell_type": "code",
   "execution_count": 8,
   "metadata": {},
   "outputs": [],
   "source": [
    "# write you answer here"
   ]
  },
  {
   "cell_type": "markdown",
   "metadata": {},
   "source": [
    "Consider a stochastic version of the model above\n",
    "\n",
    "$$\n",
    "\\begin{align*}\n",
    "Y_{t+1}\t&= (1+g_{t})Y_{t}\\\\\n",
    "B_{t+1}\t&=\\left(1+ r_t \\right)B_{t}+PD \\cdot Y_t\\\\\n",
    "b_{t}\t&=\\frac{B_{t}}{Y_{t}}\\\\\n",
    "r_{t}\t&= \\exp ( \\epsilon^r_{t} ) -1  + \\nu b_t^2\\\\\n",
    "g_{t}   &= \\exp ( \\epsilon^g_{t} )-1 \\\\\n",
    "\\epsilon^g_{t} \t&\\sim\\mathcal{\\mathcal{N}}(\\mu_{g},\\sigma_{g}^{2})\\\\\n",
    "\\epsilon^r_{t}\t&\\sim\\mathcal{\\mathcal{N}}(\\mu_{r},\\sigma_{r}^{2})\\\\\n",
    "\\end{align*}\n",
    "$$"
   ]
  },
  {
   "cell_type": "markdown",
   "metadata": {},
   "source": [
    "where $\\nu$ measure the interest rate sensivity. <br>\n",
    "We have $Y_{0}=1$, $B_{0}=0$, $\\mu_{g}=0.02$, $\\sigma_{g}=0.02$, $\\mu_{r}=0.00$, $\\sigma_{r}=0.02$ and $\\nu = 0.001$.\n",
    "\n",
    "We now define the *probability of fiscal sustainabilit*y as the probability of always having $b_t < 2$ for $t < 500$. "
   ]
  },
  {
   "cell_type": "markdown",
   "metadata": {},
   "source": [
    "**Question 3**: What is the probability of fiscal sustainability as function of $PD$?"
   ]
  },
  {
   "cell_type": "code",
   "execution_count": 9,
   "metadata": {},
   "outputs": [],
   "source": [
    "# write you answer here"
   ]
  },
  {
   "cell_type": "markdown",
   "metadata": {},
   "source": [
    "**Question 4:** Introduce and implement an extension of the model to make the fiscal sustainability analysis more interesting."
   ]
  },
  {
   "cell_type": "code",
   "execution_count": 10,
   "metadata": {},
   "outputs": [],
   "source": [
    "# write you answer here"
   ]
  },
  {
   "cell_type": "markdown",
   "metadata": {},
   "source": [
    "## 3. <a id='toc3_'></a>[Problem 3: Deferred acceptance algorithm](#toc0_)"
   ]
  },
  {
   "cell_type": "markdown",
   "metadata": {},
   "source": [
    "Consider a matching problem with students and mentors. <br>\n",
    "There are $S$ students, $s_1,s_2,\\dots s_S$ and $M$ mentors $m_1,m_2,\\dots m_M$  <br>\n",
    "All have preferences over each other, meaning student $s_i$ gets utility $u_{s_i}(m_j)$ from working with mentor $m_j$ and mentor $m_j$ gets utility $u_{m_j}(s_i)$ from mentoring student $s_i$. <br>\n",
    "Their preferences are independent of each other, $u_{s_i}(m_j)\\sim U[0,1],\\;u_{m_j}(s_i)\\sim U[0,1]$.<br>\n",
    "They all don't want to work alone, meaning $u_{s_i}(Ø) = u_{m_j}(Ø) = 0$, and can only work with one single person. <br>\n",
    "A matching prescribes a mapping between students and mentors such that all students and mentors either have a unique partner or are unmatched. <br>\n",
    "It can be defined as a function $\\mu$ that uniquely maps students to mentors and mentors to students. <br>\n",
    "$$\n",
    "\\begin{align*}\n",
    "    \\mu(a) = \\begin{cases}\n",
    "        m_j & \\text{if } a \\text{ is matched to } m_j \\\\\n",
    "        s_i & \\text{if } a \\text{ is matched to } s_i \\\\\n",
    "        Ø & \\text{if } a \\text{ is unmatched}\n",
    "    \\end{cases}\n",
    "\\end{align*}\n",
    "$$\n",
    "For all $a\\in \\left\\{s_1,s_2,\\dots s_S,m_1,m_2,\\dots m_M\\right\\}$. <br>\n",
    "For a given matching, a *blocking pair* is a pair $(s_i,m_j)$ such that $s_i$ and $m_j$ are not matched to each other in the matching, but both prefer each other to their current partners. Meaning that $u_{s_i}(m_j) > u_{s_i}(\\mu(s_i))$ and $u_{m_j}(s_i) > u_{m_j}(\\mu(m_j))$ would identify a blocking pair. <br>\n",
    "A *stable matching* is a matching with no blocking pairs. <br>"
   ]
  },
  {
   "cell_type": "markdown",
   "metadata": {},
   "source": [
    "**Deffered Acceptance Algorithm (DAA)**<br>\n",
    "DAA is an algorithm that finds a stable matching. <br>\n",
    "One of the groups proposes to members of the other group, and members of the other group considers the offers they have received. This continues in a loop until a stable matching is found. <br>\n",
    "We will call the proposing group $P$ and the receiving group $R$.  <br>\n",
    "If the students propose, then we say $S=P$ with $s_i=p_i\\forall i$, and $M=R$ with $m_j=r_j \\forall j$, and vice versa.\n",
    "\n",
    "The algorithm is as follows:\n",
    "\n",
    "1. All $p_i$ who do not have an outstanding offer, (because it is the first round, or because their offer was rejected in the previous round) propose to the $r_j$ whom they prefer the most, among those that have not rejected them yet. If they have been rejected by all $r_j$ they remain unmatched. <br>\n",
    "    If all $p_i$ either have an outstanding offer or have been rejected by all $r_j$, then go to step 4. <br>\n",
    "\n",
    "1. If a $r_j$ has one offer, they hold on to that offer. <br>\n",
    "    If a $r_j$ has more than one offer (including the offer they might have held on to), they hold on to their favorite offer and reject the rest. <br>\n",
    "\n",
    "1. Go back to step 1. <br>\n",
    "\n",
    "1. The resulting matching is stable. <br>\n",
    "\n"
   ]
  },
  {
   "cell_type": "markdown",
   "metadata": {},
   "source": [
    "The below code should help you get started, read through through it and make sure you understand it. Then make the changes necessary to answer the questions. (Feel free to move it into a .py-file)"
   ]
  },
  {
   "cell_type": "code",
   "execution_count": 11,
   "metadata": {},
   "outputs": [],
   "source": [
    "class Person:\n",
    "    def __init__(self, id,u, ranking):\n",
    "        '''\n",
    "        Initiate person class\n",
    "        '''\n",
    "\n",
    "        self.id = id\n",
    "        self.u = u # Utility of working with the partner, ordered by their id\n",
    "        self.ranking = ranking  # Ordered preferred list of partner ids\n",
    "        self.partner = None # Chosen partner\n",
    "        self.k = 0 # Index of the preferred list the person has gotten to if they are the \n",
    "        self.k_max = len(ranking) # Maximum index of the preferred list\n",
    "\n",
    "    def next_offer(self):\n",
    "        '''\n",
    "        Returns the id of the next person that the person wants to work with\n",
    "        or None if the person has already found a partner or has gone through everybody\n",
    "        '''\n",
    "\n",
    "        if self.k == self.k_max or self.partner is not None:\n",
    "            return None        \n",
    "        else:\n",
    "            self.k += 1\n",
    "            return self.ranking[self.k-1]\n",
    "\n",
    "\n",
    "    def react_to_offer(self,offers,printit = False):\n",
    "        '''\n",
    "        Offers is a list of offers from proposers to recievers \n",
    "        This functions goes through that list and finds all offers to self,\n",
    "        then chooses the best offer (Others should be rejected)\n",
    "        '''\n",
    "\n",
    "        if self.partner is None:\n",
    "            u_partner = 0\n",
    "        else:\n",
    "            u_partner = self.u[self.partner]\n",
    "\n",
    "        for i,o in enumerate(offers):\n",
    "\n",
    "            if o == self.id:\n",
    "                if printit:\n",
    "                    print(f'Offer from {i+1} is {o+1}')\n",
    "                    print(f'Utility: {self.u[i]:.4f} vs {u_partner:.4f}')\n",
    "\n",
    "                if self.u[i]>u_partner:\n",
    "                    if printit:\n",
    "                        print(f'Accepting offer from {i+1} so far')\n",
    "                    # If the offer is better than the current partner, then choose the offer\n",
    "                    self.partner = i\n",
    "                    u_partner = self.u[i]      \n",
    "\n",
    "        return self.partner\n",
    "\n",
    "    def __repr__(self):\n",
    "        '''\n",
    "        Text representation\n",
    "        '''\n",
    "        if self.partner is None:\n",
    "            return f'Person {self.id+1} works alone'\n",
    "        else:\n",
    "            return f'Person {self.id+1} works with {self.partner+1}'\n",
    "\n",
    "class MatchingModel:\n",
    "\n",
    "    def __init__(self,S=10,M=10):\n",
    "        '''\n",
    "        Initiate the matching model\n",
    "        '''\n",
    "        par = self.par = SimpleNamespace()\n",
    "        sol = self.sol = SimpleNamespace()\n",
    "        par.S = S\n",
    "        par.M = M\n",
    "\n",
    "    def simulate_preferences(self):\n",
    "        '''\n",
    "        Simulate preferences for students and mentors\n",
    "        '''\n",
    "        \n",
    "        par = self.par\n",
    "        S = par.S\n",
    "        M = par.M\n",
    "\n",
    "        # Simulate preferences\n",
    "        par.S_pref = np.random.uniform(size=(S,M))\n",
    "        par.M_pref = np.random.uniform(size=(M,S))\n",
    "        \n",
    "        # Create ranking\n",
    "        # In S_ranking each row is a student, and the columns are their rankings ordered from left to right.\n",
    "        # So having 3 in the first column means prefering the fourth mentor the most\n",
    "        \n",
    "        par.S_ranking = np.argsort(-par.S_pref,axis=1)\n",
    "        par.M_ranking = np.argsort(-par.M_pref,axis=1)\n",
    "\n",
    "        # Create persons\n",
    "        par.S_list = [Person(i, par.S_pref[i,:], par.S_ranking[i,:]) for i in range(S)]\n",
    "        par.M_list = [Person(i, par.M_pref[i,:], par.M_ranking[i,:]) for i in range(M)]\n",
    "\n",
    "    def reset(self):\n",
    "        '''\n",
    "        Reset person counter for everybody\n",
    "        '''        \n",
    "\n",
    "        par = self.par\n",
    "        for p in par.S_list+par.M_list:\n",
    "            p.k = 0\n",
    "            p.partner = None\n",
    "\n",
    "    def print_matching(self):\n",
    "        '''\n",
    "        Prints the current matching\n",
    "        '''\n",
    "\n",
    "        par = self.par\n",
    "        print('Matching')\n",
    "\n",
    "        print('Students:')\n",
    "        for p in par.S_list:\n",
    "            print(p)\n",
    "\n",
    "        print('\\nMentors')\n",
    "        for p in par.M_list:\n",
    "            print(p)\n",
    "\n",
    "        matchprint= '{'\n",
    "        for x,y in self.current_matching():\n",
    "            if x is not None:\n",
    "                x += 1\n",
    "            if y is not None:   \n",
    "                y += 1\n",
    "            matchprint += f'({x},{y}), '\n",
    "        matchprint += '}'\n",
    "        \n",
    "        print('{(s:m)} :',matchprint)\n",
    "\n",
    "\n",
    "    def current_matching(self):\n",
    "        '''\n",
    "        Returns current matching in the form of a list of tuples (s,m) where s is the student and m is the mentor they are matched with\n",
    "        Order by the index of the smallest group\n",
    "        '''\n",
    "        par = self.par\n",
    "        \n",
    "        if par.S < par.M:\n",
    "            current_matching = [(s.id,s.partner) for s in par.S_list]\n",
    "        else:\n",
    "            current_matching = [(m.partner,m.id) for m in par.M_list]\n",
    "\n",
    "        return current_matching\n",
    "\n",
    "    def check_matching(self):\n",
    "        '''\n",
    "        Checks if the current matching is consistent, in the sense that everybody is matched with who they think that they are matched with,\n",
    "         and whether the matching is stable by looking for blocking pairs\n",
    "        '''\n",
    "\n",
    "        par = self.par\n",
    "\n",
    "        for s in par.S_list:\n",
    "            \n",
    "            if s.partner is None:\n",
    "                continue\n",
    "            else:\n",
    "                m = par.M_list[s.partner]\n",
    "                if m.partner != s.id:\n",
    "                    print(f'Error: {s+1} is not matched with {m+1}')\n",
    "\n",
    "        for m in par.M_list:\n",
    "\n",
    "            if m.partner is None:\n",
    "                continue\n",
    "            else:\n",
    "                s = par.S_list[m.partner]\n",
    "                if s.partner != m.id:\n",
    "                    print(f'Error: {m+1} is not matched with {s+1}')\n",
    "\n",
    "        \n",
    "        self.check_stability()\n",
    "\n",
    "\n",
    "    def check_stability(self,print_blocking_pairs=True):\n",
    "        '''\n",
    "        \n",
    "        Check for any blocking pairs in the current matching\n",
    "\n",
    "        '''\n",
    "\n",
    "        par = self.par\n",
    "        for s in par.S_list:\n",
    "\n",
    "            if s.partner is None:\n",
    "                partner_u = 0\n",
    "            else:\n",
    "                partner_u = s.u[s.partner]\n",
    "            \n",
    "            for i in range(s.k_max):\n",
    "\n",
    "                if s.u[i]>partner_u: # Does s prefer someone else more than their partner\n",
    "                \n",
    "                    m_other= par.M_list[i]\n",
    "                \n",
    "                    # Does this person also prefer s over their partner or don't have a partner\n",
    "                    if not (m_other.partner is None):\n",
    "                        m_other_u = m_other.u[m_other.partner]\n",
    "                        if m_other.u[s.id] <= m_other.u[m_other.partner]: \n",
    "                            continue # No blocking pair\n",
    "\n",
    "                    if print_blocking_pairs:\n",
    "                        print(f'Error: student {s.id+1} and mentor {i+1} are a blocking pair')\n",
    "                    return False\n",
    "   \n",
    "        return True\n",
    "\n",
    "    def DAA(self, proposers='S',print_matching=True):\n",
    "        '''\n",
    "        Implement deferred acceptance algorithm\n",
    "        '''\n",
    "\n",
    "        par = self.par\n",
    "        sol = self.sol \n",
    "\n",
    "        recievers = 'M' if proposers == 'S' else 'S'\n",
    "        P_list = getattr(par,f'{proposers}_list' )\n",
    "        R_list = getattr(par,f'{recievers}_list')\n",
    "\n",
    "        # Reset\n",
    "        self.reset()\n",
    "\n",
    "        round = 1 \n",
    "        while True:\n",
    "\n",
    "            if round==1:\n",
    "                print('Starting DA algorithm')\n",
    "            else:\n",
    "                print(f'Round {round}')\n",
    "            \n",
    "\n",
    "\n",
    "            ##\n",
    "            # Write you code here\n",
    "            return \"DAA has not been implemented yet\"\n",
    "            ##\n",
    "            \n",
    "    \n",
    "            round += 1\n",
    "            if round >= 100:\n",
    "                print('Breaking, more than a 100 rounds')\n",
    "                break\n",
    "\n",
    "\n",
    "        assert self.check_stability() ,'Something went wrong DAA matching is not stable'\n",
    "\n",
    "        if print_matching:\n",
    "            self.print_matching()\n",
    "    \n",
    "\n",
    "    def all_matchings(self):\n",
    "        '''\n",
    "        Find all possible matches between students and mentors\n",
    "        '''\n",
    "\n",
    "        par = self.par\n",
    "        S = par.S\n",
    "        M = par.M\n",
    "        matchings = []\n",
    "\n",
    "\n",
    "        ##\n",
    "        # Write your code here\n",
    "        ##\n",
    "\n",
    "\n",
    "        return matchings\n",
    "\n",
    "    def find_all_stable_matches(self):\n",
    "        '''\n",
    "        Among all possible matches, find all that are stable\n",
    "        '''\n",
    "\n",
    "        par = self.par\n",
    "        sol = self.sol\n",
    "\n",
    "        S = par.S\n",
    "        M = par.M\n",
    "\n",
    "        all_matchings = self.all_matchings()\n",
    "        sol.stable_matchings = []\n",
    "          \n",
    "        \n",
    "        ##\n",
    "        # Write your code here\n",
    "        ##\n",
    "\n",
    "\n",
    "        return sol.stable_matchings\n",
    "    \n",
    "    def calculate_utility(self):\n",
    "        '''\n",
    "        Calculate the average utility of each group in all stable matchings\n",
    "        '''\n",
    "        par = self.par\n",
    "        sol = self.sol\n",
    "        \n",
    "        \n",
    "        ##\n",
    "        # Write your code here \n",
    "        ## \n",
    "        "
   ]
  },
  {
   "cell_type": "code",
   "execution_count": 12,
   "metadata": {},
   "outputs": [],
   "source": [
    "# Setup\n",
    "np.random.seed(2000)\n",
    "\n",
    "# Initiate the model and simulate preferences\n",
    "Mmodel = MatchingModel(M=7,S=7)\n",
    "par = Mmodel.par\n",
    "Mmodel.simulate_preferences()"
   ]
  },
  {
   "cell_type": "code",
   "execution_count": 13,
   "metadata": {},
   "outputs": [
    {
     "name": "stdout",
     "output_type": "stream",
     "text": [
      "Matching\n",
      "Students:\n",
      "Person 1 works alone\n",
      "Person 2 works alone\n",
      "Person 3 works alone\n",
      "Person 4 works alone\n",
      "Person 5 works alone\n",
      "Person 6 works alone\n",
      "Person 7 works alone\n",
      "\n",
      "Mentors\n",
      "Person 1 works alone\n",
      "Person 2 works alone\n",
      "Person 3 works alone\n",
      "Person 4 works alone\n",
      "Person 5 works alone\n",
      "Person 6 works alone\n",
      "Person 7 works alone\n",
      "{(s:m)} : {(None,1), (None,2), (None,3), (None,4), (None,5), (None,6), (None,7), }\n"
     ]
    }
   ],
   "source": [
    "# Print the current prescribed matching\n",
    "Mmodel.print_matching()"
   ]
  },
  {
   "cell_type": "code",
   "execution_count": 14,
   "metadata": {},
   "outputs": [
    {
     "name": "stdout",
     "output_type": "stream",
     "text": [
      "Error: student 1 and mentor 1 are a blocking pair\n"
     ]
    }
   ],
   "source": [
    "# Check whether the current matching is stable\n",
    "Mmodel.check_matching()"
   ]
  },
  {
   "cell_type": "markdown",
   "metadata": {},
   "source": [
    "It is not stable because nobody has a partner, and everybody would prefer working with somebody as opposed to alone"
   ]
  },
  {
   "cell_type": "code",
   "execution_count": 15,
   "metadata": {},
   "outputs": [
    {
     "name": "stdout",
     "output_type": "stream",
     "text": [
      "Student 1 offers to mentor 1\n",
      "Student 2 offers to mentor 7\n",
      "Student 3 offers to mentor 2\n",
      "Student 4 offers to mentor 7\n",
      "Student 5 offers to mentor 7\n",
      "Student 6 offers to mentor 6\n",
      "Student 7 offers to mentor 4\n"
     ]
    }
   ],
   "source": [
    "# We can loop through all students and get the id of the mentor they would want to offer to first\n",
    "offers = [s.next_offer() for s in par.S_list]\n",
    "for i, offer in enumerate(offers):\n",
    "    print(f'Student {i+1} offers to mentor {offer+1}')"
   ]
  },
  {
   "cell_type": "code",
   "execution_count": 16,
   "metadata": {},
   "outputs": [
    {
     "name": "stdout",
     "output_type": "stream",
     "text": [
      "Offer from 2 is 7\n",
      "Utility: 0.8465 vs 0.0000\n",
      "Accepting offer from 2 so far\n",
      "Offer from 4 is 7\n",
      "Utility: 0.2627 vs 0.8465\n",
      "Offer from 5 is 7\n",
      "Utility: 0.9927 vs 0.8465\n",
      "Accepting offer from 5 so far\n",
      "m7 chooses to hold on to the offer from student 5\n"
     ]
    }
   ],
   "source": [
    "# For given list of offers we can then see the mentors reaction\n",
    "m7 = par.M_list[6]\n",
    "choice = m7.react_to_offer(offers,printit=True)\n",
    "print(f'm7 chooses to hold on to the offer from student {choice+1}')"
   ]
  },
  {
   "cell_type": "code",
   "execution_count": 17,
   "metadata": {},
   "outputs": [
    {
     "name": "stdout",
     "output_type": "stream",
     "text": [
      "Matching\n",
      "Students:\n",
      "Person 1 works alone\n",
      "Person 2 works alone\n",
      "Person 3 works alone\n",
      "Person 4 works alone\n",
      "Person 5 works with 7\n",
      "Person 6 works alone\n",
      "Person 7 works alone\n",
      "\n",
      "Mentors\n",
      "Person 1 works alone\n",
      "Person 2 works alone\n",
      "Person 3 works alone\n",
      "Person 4 works alone\n",
      "Person 5 works alone\n",
      "Person 6 works alone\n",
      "Person 7 works with 5\n",
      "{(s:m)} : {(None,1), (None,2), (None,3), (None,4), (None,5), (None,6), (5,7), }\n"
     ]
    }
   ],
   "source": [
    "# We can then tell student 5 that they have an outstanding offer from mentor 7\n",
    "s5 = par.S_list[4]\n",
    "s5.partner = 6\n",
    "\n",
    "# And see our new current matching\n",
    "Mmodel.print_matching()"
   ]
  },
  {
   "cell_type": "code",
   "execution_count": 18,
   "metadata": {},
   "outputs": [
    {
     "name": "stdout",
     "output_type": "stream",
     "text": [
      "Matching\n",
      "Students:\n",
      "Person 1 works alone\n",
      "Person 2 works alone\n",
      "Person 3 works alone\n",
      "Person 4 works alone\n",
      "Person 5 works alone\n",
      "Person 6 works alone\n",
      "Person 7 works alone\n",
      "\n",
      "Mentors\n",
      "Person 1 works alone\n",
      "Person 2 works alone\n",
      "Person 3 works alone\n",
      "Person 4 works alone\n",
      "Person 5 works alone\n",
      "Person 6 works alone\n",
      "Person 7 works alone\n",
      "{(s:m)} : {(None,1), (None,2), (None,3), (None,4), (None,5), (None,6), (None,7), }\n"
     ]
    }
   ],
   "source": [
    "# We can reset all persons\n",
    "Mmodel.reset()\n",
    "Mmodel.print_matching()"
   ]
  },
  {
   "cell_type": "markdown",
   "metadata": {},
   "source": [
    "**Question 1:** Use DAA to find the stable matching when students propose. <br>"
   ]
  },
  {
   "cell_type": "code",
   "execution_count": 19,
   "metadata": {},
   "outputs": [
    {
     "name": "stdout",
     "output_type": "stream",
     "text": [
      "Starting DA algorithm\n"
     ]
    },
    {
     "data": {
      "text/plain": [
       "'DAA has not been implemented yet'"
      ]
     },
     "execution_count": 19,
     "metadata": {},
     "output_type": "execute_result"
    }
   ],
   "source": [
    "Mmodel.DAA()"
   ]
  },
  {
   "cell_type": "markdown",
   "metadata": {},
   "source": [
    "**Question 2:** Use DAA to find the stable matching when mentors propose. <br>"
   ]
  },
  {
   "cell_type": "code",
   "execution_count": 20,
   "metadata": {},
   "outputs": [
    {
     "name": "stdout",
     "output_type": "stream",
     "text": [
      "Starting DA algorithm\n"
     ]
    },
    {
     "data": {
      "text/plain": [
       "'DAA has not been implemented yet'"
      ]
     },
     "execution_count": 20,
     "metadata": {},
     "output_type": "execute_result"
    }
   ],
   "source": [
    "Mmodel.DAA(proposers='M')"
   ]
  },
  {
   "cell_type": "markdown",
   "metadata": {},
   "source": [
    "**Question 3:** Find all other stable matches. <br>\n",
    "*Hint: Everybody prefers working with somebody as opposed to alone, this means that no one will be alone in a stable matching, because both groups are equal in size.*"
   ]
  },
  {
   "cell_type": "code",
   "execution_count": 21,
   "metadata": {},
   "outputs": [
    {
     "data": {
      "text/plain": [
       "[]"
      ]
     },
     "execution_count": 21,
     "metadata": {},
     "output_type": "execute_result"
    }
   ],
   "source": [
    "Mmodel.find_all_stable_matches()"
   ]
  },
  {
   "cell_type": "markdown",
   "metadata": {},
   "source": [
    "**Questions 4:** Calculate the average utility of students and mentors seperately in each stable matching, and compare with those found using DAA.\n"
   ]
  },
  {
   "cell_type": "code",
   "execution_count": 22,
   "metadata": {},
   "outputs": [],
   "source": [
    "Mmodel.calculate_utility()"
   ]
  }
 ],
 "metadata": {
  "kernelspec": {
   "display_name": "a311",
   "language": "python",
   "name": "python3"
  },
  "language_info": {
   "codemirror_mode": {
    "name": "ipython",
    "version": 3
   },
   "file_extension": ".py",
   "mimetype": "text/x-python",
   "name": "python",
   "nbconvert_exporter": "python",
   "pygments_lexer": "ipython3",
   "version": "3.11.5"
  }
 },
 "nbformat": 4,
 "nbformat_minor": 2
}
